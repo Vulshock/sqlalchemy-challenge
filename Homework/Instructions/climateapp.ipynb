{
 "cells": [
  {
   "cell_type": "code",
   "execution_count": 1,
   "metadata": {},
   "outputs": [],
   "source": [
    "import pandas as pd\n",
    "import numpy as np\n",
    "import datetime as dt\n",
    "import sqlalchemy\n",
    "from sqlalchemy.ext.automap import automap_base\n",
    "from sqlalchemy.orm import Session\n",
    "from sqlalchemy import create_engine, func\n",
    "from flask import Flask, jsonify\n"
   ]
  },
  {
   "cell_type": "code",
   "execution_count": 2,
   "metadata": {},
   "outputs": [],
   "source": [
    "engine = create_engine('sqlite:///Resources/hawaii.sqlite')"
   ]
  },
  {
   "cell_type": "code",
   "execution_count": 3,
   "metadata": {},
   "outputs": [
    {
     "data": {
      "text/plain": [
       "['measurement', 'station']"
      ]
     },
     "execution_count": 3,
     "metadata": {},
     "output_type": "execute_result"
    }
   ],
   "source": [
    "Base = automap_base()\n",
    "Base.prepare(engine, reflect = True)\n",
    "Base.classes.keys()"
   ]
  },
  {
   "cell_type": "code",
   "execution_count": 4,
   "metadata": {},
   "outputs": [],
   "source": [
    "Measurement = Base.classes.measurement\n",
    "Station = Base.classes.station"
   ]
  },
  {
   "cell_type": "code",
   "execution_count": 5,
   "metadata": {},
   "outputs": [],
   "source": [
    "session = Session(engine)"
   ]
  },
  {
   "cell_type": "code",
   "execution_count": 6,
   "metadata": {},
   "outputs": [],
   "source": [
    "app = Flask(__name__)"
   ]
  },
  {
   "cell_type": "code",
   "execution_count": 7,
   "metadata": {},
   "outputs": [],
   "source": [
    "@app.route(\"/\")\n",
    "def welcome():\n",
    "    \"Welcome to the site, here are the avalible api routes:\"\n",
    "    return(\n",
    "    f'/api/v1.0/precipitation'\n",
    "    f' Dates and perception overed from the last year. <br/>'\n",
    "    f'/api/v1.0/stations'\n",
    "    f' List of station names. <br/>'\n",
    "    f'/api/v1.0/tobs'\n",
    "    f' List of Temperature Observations for the previous year.<br/>'\n",
    "    f'/api/v1.0/<start>'\n",
    "    f'/api/v1.0/<start>/<end>')"
   ]
  },
  {
   "cell_type": "code",
   "execution_count": 8,
   "metadata": {},
   "outputs": [],
   "source": [
    "@app.route(\"/api/v1.0/precipitaton\")\n",
    "def precipitation():\n",
    "    \n",
    "    results = (session.query(Measurement.date, Measurement.prcp, Measurement.station)\n",
    "                      .filter(Measurement.date.between('2016-02-28', '2017-03-01'))\n",
    "                      .order_by(Measurement.date)\n",
    "                      .all())\n",
    "    \n",
    "    precipData = []\n",
    "    for result in results:\n",
    "        row = {'date':'prcp'}\n",
    "        row['date'] = result[0]\n",
    "        row['prcp'] = float(result[1])\n",
    "        precipDate.append(row)\n",
    "\n",
    "    return jsonify(precipData)\n"
   ]
  },
  {
   "cell_type": "code",
   "execution_count": 9,
   "metadata": {},
   "outputs": [],
   "source": [
    "@app.route(\"/api/v1.0/stations\")\n",
    "def stations():\n",
    "    \n",
    "    station_info = (session.query(Station.station, Station.sation_name).group_by(Station.station).all())\n",
    "                    \n",
    "    list_info = list(np.ravel(station_info))\n",
    "    return jsonify(station_info)"
   ]
  },
  {
   "cell_type": "code",
   "execution_count": 10,
   "metadata": {},
   "outputs": [],
   "source": [
    "@app.route(\"/api/v1.0/tobs\")\n",
    "def tobs():\n",
    "    \n",
    "    results = (session.query(Measurement.date, Measurement.tobs, Measurement.station)\n",
    "              .filter(Measurement.date.between('2016-02-28', '2017-03-01'))\n",
    "              .order_by(Measurement.date).all())\n",
    "    temperature_data = []\n",
    "    \n",
    "    for result in results:\n",
    "        temp = {results.date: result.tobs, \"Station\": result.station}\n",
    "        temperature_date.append(temp)\n",
    "    return jsonify(temperature_data)"
   ]
  },
  {
   "cell_type": "code",
   "execution_count": 12,
   "metadata": {},
   "outputs": [],
   "source": [
    "@app.route(\"/api/v1.0/calc_temps/<start>\")\n",
    "\n",
    "def calc_temps_start(start='start_date'):\n",
    "    start_date = datetime.strptime('2016-02-28', '%Y-%m-%d').date()\n",
    "    start_results = session.query(func.max(Measurement.tobs), func.min(Measurement.tobs), func.avg(Measurement.tobs)).filter(Measurement.date >= start_date) \n",
    "    \n",
    "    start_tobs = []\n",
    "    for tobs in start_results:\n",
    "        tobs_dict = {}\n",
    "        tobs_dict[\"TAVG\"] = float(tobs[2])\n",
    "        tobs_dict[\"TMAX\"] = float(tobs[0])\n",
    "        tobs_dict[\"TMIN\"] = float(tobs[1])\n",
    "        \n",
    "        start_tobs.append(tobs_dict)\n",
    "\n",
    "    return jsonify(start_tobs)"
   ]
  },
  {
   "cell_type": "code",
   "execution_count": 14,
   "metadata": {},
   "outputs": [
    {
     "ename": "SyntaxError",
     "evalue": "invalid syntax (<ipython-input-14-97bd38c8bc5d>, line 6)",
     "output_type": "error",
     "traceback": [
      "\u001b[1;36m  File \u001b[1;32m\"<ipython-input-14-97bd38c8bc5d>\"\u001b[1;36m, line \u001b[1;32m6\u001b[0m\n\u001b[1;33m    full_results = session.query(func.max(Measurement.tobs), func.min(Meassurment.tobs), func.avg(Measurement.tobs)).filter(Measurement.date.between(start_date, end_date)))\u001b[0m\n\u001b[1;37m                                                                                                                                                                           ^\u001b[0m\n\u001b[1;31mSyntaxError\u001b[0m\u001b[1;31m:\u001b[0m invalid syntax\n"
     ]
    }
   ],
   "source": [
    "@app.route(\"/api/v1.0/calc_temps/<start>/<end>\")\n",
    "\n",
    "def calc_temps_end(start= 'start_date', end = 'end_date'):\n",
    "    start_date = datetime.strptime('2016-02-28', '%Y-%m-%d').date()\n",
    "    end_date = datetime.strptime('2017-03-01', '%Y-%m-%d').date()\n",
    "    full_results = session.query(func.max(Measurement.tobs), func.min(Meassurment.tobs), func.avg(Measurement.tobs)).filter(Measurement.date.between(start_date, end_date)))\n",
    "    \n",
    "    all_tobs = []\n",
    "    for tobs in full_results:\n",
    "        tobs_dict = {}\n",
    "        tobs_dict[\"TAVG\"] = float(tobs[2])\n",
    "        tobs_dict[\"TMAX\"] = float(tobs[0])\n",
    "        tobs_dict[\"TMIN\"] = float(tobs[1])\n",
    "        \n",
    "        all_tobs.append(tobs_dict)\n",
    "        \n",
    "        return jsonify(all_tobs)"
   ]
  },
  {
   "cell_type": "code",
   "execution_count": null,
   "metadata": {},
   "outputs": [],
   "source": []
  }
 ],
 "metadata": {
  "kernelspec": {
   "display_name": "Python 3",
   "language": "python",
   "name": "python3"
  },
  "language_info": {
   "codemirror_mode": {
    "name": "ipython",
    "version": 3
   },
   "file_extension": ".py",
   "mimetype": "text/x-python",
   "name": "python",
   "nbconvert_exporter": "python",
   "pygments_lexer": "ipython3",
   "version": "3.7.4"
  }
 },
 "nbformat": 4,
 "nbformat_minor": 2
}
